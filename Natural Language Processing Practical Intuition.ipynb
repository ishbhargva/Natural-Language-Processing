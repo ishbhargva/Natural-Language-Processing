{
 "cells": [
  {
   "cell_type": "markdown",
   "id": "54ae7c6c",
   "metadata": {},
   "source": [
    "### Natural Language Processing Practical Intuition"
   ]
  },
  {
   "cell_type": "code",
   "execution_count": 59,
   "id": "9122ab04",
   "metadata": {},
   "outputs": [],
   "source": [
    "import nltk\n",
    "from nltk.stem import *\n",
    "from nltk.corpus import stopwords"
   ]
  },
  {
   "cell_type": "code",
   "execution_count": 60,
   "id": "d365417e",
   "metadata": {},
   "outputs": [],
   "source": [
    "text = \"\"\"This tutorial provides an overview of natural language processing (NLP) and lays a foundation for the JAMIA reader to better appreciate the articles in this issue.\n",
    "\n",
    "NLP began in the 1950s as the intersection of artificial intelligence and linguistics. NLP was originally distinct from text information retrieval (IR), which employs highly scalable statistics-based techniques to index and search large volumes of text efficiently: Manning et al1 provide an excellent introduction to IR. With time, however, NLP and IR have converged somewhat. Currently, NLP borrows from several, very diverse fields, requiring today's NLP researchers and developers to broaden their mental knowledge-base significantly.\n",
    "\n",
    "Early simplistic approaches, for example, word-for-word Russian-to-English machine translation,2 were defeated by homographs—identically spelled words with multiple meanings—and metaphor, leading to the apocryphal story of the Biblical, ‘the spirit is willing, but the flesh is weak’ being translated to ‘the vodka is agreeable, but the meat is spoiled.’\"\"\""
   ]
  },
  {
   "cell_type": "code",
   "execution_count": 61,
   "id": "332db530",
   "metadata": {},
   "outputs": [
    {
     "name": "stdout",
     "output_type": "stream",
     "text": [
      "This tutorial provides an overview of natural language processing (NLP) and lays a foundation for the JAMIA reader to better appreciate the articles in this issue.\n",
      "\n",
      "NLP began in the 1950s as the intersection of artificial intelligence and linguistics. NLP was originally distinct from text information retrieval (IR), which employs highly scalable statistics-based techniques to index and search large volumes of text efficiently: Manning et al1 provide an excellent introduction to IR. With time, however, NLP and IR have converged somewhat. Currently, NLP borrows from several, very diverse fields, requiring today's NLP researchers and developers to broaden their mental knowledge-base significantly.\n",
      "\n",
      "Early simplistic approaches, for example, word-for-word Russian-to-English machine translation,2 were defeated by homographs—identically spelled words with multiple meanings—and metaphor, leading to the apocryphal story of the Biblical, ‘the spirit is willing, but the flesh is weak’ being translated to ‘the vodka is agreeable, but the meat is spoiled.’\n"
     ]
    }
   ],
   "source": [
    "print(text)"
   ]
  },
  {
   "cell_type": "code",
   "execution_count": 4,
   "id": "c8965be2",
   "metadata": {},
   "outputs": [
    {
     "data": {
      "text/plain": [
       "['This',\n",
       " 'tutorial',\n",
       " 'provides',\n",
       " 'an',\n",
       " 'overview',\n",
       " 'of',\n",
       " 'natural',\n",
       " 'language',\n",
       " 'processing',\n",
       " '(',\n",
       " 'NLP',\n",
       " ')',\n",
       " 'and',\n",
       " 'lays',\n",
       " 'a',\n",
       " 'foundation',\n",
       " 'for',\n",
       " 'the',\n",
       " 'JAMIA',\n",
       " 'reader',\n",
       " 'to',\n",
       " 'better',\n",
       " 'appreciate',\n",
       " 'the',\n",
       " 'articles',\n",
       " 'in',\n",
       " 'this',\n",
       " 'issue',\n",
       " '.',\n",
       " 'NLP',\n",
       " 'began',\n",
       " 'in',\n",
       " 'the',\n",
       " '1950s',\n",
       " 'as',\n",
       " 'the',\n",
       " 'intersection',\n",
       " 'of',\n",
       " 'artificial',\n",
       " 'intelligence',\n",
       " 'and',\n",
       " 'linguistics',\n",
       " '.',\n",
       " 'NLP',\n",
       " 'was',\n",
       " 'originally',\n",
       " 'distinct',\n",
       " 'from',\n",
       " 'text',\n",
       " 'information',\n",
       " 'retrieval',\n",
       " '(',\n",
       " 'IR',\n",
       " ')',\n",
       " ',',\n",
       " 'which',\n",
       " 'employs',\n",
       " 'highly',\n",
       " 'scalable',\n",
       " 'statistics-based',\n",
       " 'techniques',\n",
       " 'to',\n",
       " 'index',\n",
       " 'and',\n",
       " 'search',\n",
       " 'large',\n",
       " 'volumes',\n",
       " 'of',\n",
       " 'text',\n",
       " 'efficiently',\n",
       " ':',\n",
       " 'Manning',\n",
       " 'et',\n",
       " 'al1',\n",
       " 'provide',\n",
       " 'an',\n",
       " 'excellent',\n",
       " 'introduction',\n",
       " 'to',\n",
       " 'IR',\n",
       " '.',\n",
       " 'With',\n",
       " 'time',\n",
       " ',',\n",
       " 'however',\n",
       " ',',\n",
       " 'NLP',\n",
       " 'and',\n",
       " 'IR',\n",
       " 'have',\n",
       " 'converged',\n",
       " 'somewhat',\n",
       " '.',\n",
       " 'Currently',\n",
       " ',',\n",
       " 'NLP',\n",
       " 'borrows',\n",
       " 'from',\n",
       " 'several',\n",
       " ',',\n",
       " 'very',\n",
       " 'diverse',\n",
       " 'fields',\n",
       " ',',\n",
       " 'requiring',\n",
       " 'today',\n",
       " \"'s\",\n",
       " 'NLP',\n",
       " 'researchers',\n",
       " 'and',\n",
       " 'developers',\n",
       " 'to',\n",
       " 'broaden',\n",
       " 'their',\n",
       " 'mental',\n",
       " 'knowledge-base',\n",
       " 'significantly',\n",
       " '.',\n",
       " 'Early',\n",
       " 'simplistic',\n",
       " 'approaches',\n",
       " ',',\n",
       " 'for',\n",
       " 'example',\n",
       " ',',\n",
       " 'word-for-word',\n",
       " 'Russian-to-English',\n",
       " 'machine',\n",
       " 'translation,2',\n",
       " 'were',\n",
       " 'defeated',\n",
       " 'by',\n",
       " 'homographs—identically',\n",
       " 'spelled',\n",
       " 'words',\n",
       " 'with',\n",
       " 'multiple',\n",
       " 'meanings—and',\n",
       " 'metaphor',\n",
       " ',',\n",
       " 'leading',\n",
       " 'to',\n",
       " 'the',\n",
       " 'apocryphal',\n",
       " 'story',\n",
       " 'of',\n",
       " 'the',\n",
       " 'Biblical',\n",
       " ',',\n",
       " '‘',\n",
       " 'the',\n",
       " 'spirit',\n",
       " 'is',\n",
       " 'willing',\n",
       " ',',\n",
       " 'but',\n",
       " 'the',\n",
       " 'flesh',\n",
       " 'is',\n",
       " 'weak',\n",
       " '’',\n",
       " 'being',\n",
       " 'translated',\n",
       " 'to',\n",
       " '‘',\n",
       " 'the',\n",
       " 'vodka',\n",
       " 'is',\n",
       " 'agreeable',\n",
       " ',',\n",
       " 'but',\n",
       " 'the',\n",
       " 'meat',\n",
       " 'is',\n",
       " 'spoiled',\n",
       " '.',\n",
       " '’']"
      ]
     },
     "execution_count": 4,
     "metadata": {},
     "output_type": "execute_result"
    }
   ],
   "source": [
    "# Tokenizing word\n",
    "word_tokenizer = nltk.word_tokenize(text)\n",
    "word_tokenizer"
   ]
  },
  {
   "cell_type": "code",
   "execution_count": 39,
   "id": "f99fe598",
   "metadata": {},
   "outputs": [
    {
     "data": {
      "text/plain": [
       "['This tutorial provides an overview of natural language processing (NLP) and lays a foundation for the JAMIA reader to better appreciate the articles in this issue.',\n",
       " 'NLP began in the 1950s as the intersection of artificial intelligence and linguistics.',\n",
       " 'NLP was originally distinct from text information retrieval (IR), which employs highly scalable statistics-based techniques to index and search large volumes of text efficiently: Manning et al1 provide an excellent introduction to IR.',\n",
       " 'With time, however, NLP and IR have converged somewhat.',\n",
       " \"Currently, NLP borrows from several, very diverse fields, requiring today's NLP researchers and developers to broaden their mental knowledge-base significantly.\",\n",
       " 'Early simplistic approaches, for example, word-for-word Russian-to-English machine translation,2 were defeated by homographs—identically spelled words with multiple meanings—and metaphor, leading to the apocryphal story of the Biblical, ‘the spirit is willing, but the flesh is weak’ being translated to ‘the vodka is agreeable, but the meat is spoiled.’']"
      ]
     },
     "execution_count": 39,
     "metadata": {},
     "output_type": "execute_result"
    }
   ],
   "source": [
    "# Tokenizing sentence\n",
    "sentences = nltk.sent_tokenize(text)\n",
    "sentences"
   ]
  },
  {
   "cell_type": "code",
   "execution_count": 17,
   "id": "7f4765f8",
   "metadata": {},
   "outputs": [
    {
     "data": {
      "text/plain": [
       "6"
      ]
     },
     "execution_count": 17,
     "metadata": {},
     "output_type": "execute_result"
    }
   ],
   "source": [
    "len(sentences)"
   ]
  },
  {
   "cell_type": "code",
   "execution_count": 40,
   "id": "5f630ddb",
   "metadata": {},
   "outputs": [],
   "source": [
    "stemmer = PorterStemmer()"
   ]
  },
  {
   "cell_type": "code",
   "execution_count": 47,
   "id": "e21a68cb",
   "metadata": {},
   "outputs": [
    {
     "name": "stdout",
     "output_type": "stream",
     "text": [
      "thi tutori provid overview natur languag process ( nlp ) lay foundat jamia reader better appreci articl issu .\n",
      "nlp began 1950 intersect artifici intellig linguist .\n",
      "nlp origin distinct text inform retriev ( ir ) , employ highli scalabl statistics-ba techniqu index search larg volum text effici : man et al1 provid excel introduct ir .\n",
      "time , howev , nlp ir converg somewhat .\n",
      "current , nlp borrow sever , diver field , requir today 's nlp research develop broaden mental knowledge-ba significantli .\n",
      "earli simplist approach , exampl , word-for-word russian-to-english machin translation,2 defeat homographs—id spell word multipl meanings—and metaphor , lead apocryph stori biblic , ‘ spirit , flesh weak ’ translat ‘ vodka agreeabl , meat spoil . ’\n"
     ]
    }
   ],
   "source": [
    "# Stemming Code\n",
    "for i in range(len(sentences)):\n",
    "    word_list = nltk.word_tokenize(sentences[i])\n",
    "    stem_list = []\n",
    "    for j in word_list:\n",
    "#         print(j)\n",
    "        if j not in stopwords.words('english'):\n",
    "            j=stemmer.stem(j)\n",
    "            stem_list.append(j)\n",
    "    word_list = stem_list\n",
    "    sentences[i] = \" \".join(word_list)\n",
    "    print(sentences[i])\n",
    "#     print(word_list)\n",
    "#     for j in word_list:\n",
    "#         if j in "
   ]
  },
  {
   "cell_type": "code",
   "execution_count": 46,
   "id": "0b58249a",
   "metadata": {},
   "outputs": [
    {
     "data": {
      "text/plain": [
       "['thi tutori provid overview natur languag process ( nlp ) lay foundat jamia reader better appreci articl issu .',\n",
       " 'nlp began 1950 intersect artifici intellig linguist .',\n",
       " 'nlp origin distinct text inform retriev ( ir ) , employ highli scalabl statistics-bas techniqu index search larg volum text effici : man et al1 provid excel introduct ir .',\n",
       " 'with time , howev , nlp ir converg somewhat .',\n",
       " \"current , nlp borrow sever , divers field , requir today 's nlp research develop broaden mental knowledge-bas significantli .\",\n",
       " 'earli simplist approach , exampl , word-for-word russian-to-english machin translation,2 defeat homographs—ident spell word multipl meanings—and metaphor , lead apocryph stori biblic , ‘ spirit will , flesh weak ’ translat ‘ vodka agreeabl , meat spoil . ’']"
      ]
     },
     "execution_count": 46,
     "metadata": {},
     "output_type": "execute_result"
    }
   ],
   "source": [
    "sentences"
   ]
  },
  {
   "cell_type": "code",
   "execution_count": 71,
   "id": "45625678",
   "metadata": {},
   "outputs": [
    {
     "name": "stderr",
     "output_type": "stream",
     "text": [
      "[nltk_data] Downloading package omw-1.4 to\n",
      "[nltk_data]     C:\\Users\\ishbha\\AppData\\Roaming\\nltk_data...\n"
     ]
    },
    {
     "data": {
      "text/plain": [
       "True"
      ]
     },
     "execution_count": 71,
     "metadata": {},
     "output_type": "execute_result"
    }
   ],
   "source": [
    "import nltk\n",
    "nltk.download('omw-1.4')"
   ]
  },
  {
   "cell_type": "code",
   "execution_count": 72,
   "id": "53aed6d3",
   "metadata": {},
   "outputs": [],
   "source": [
    "# Lemmatization\n",
    "from nltk.stem import WordNetLemmatizer\n",
    "\n",
    "sentences = nltk.sent_tokenize(text)\n",
    "lemmatizer = WordNetLemmatizer()"
   ]
  },
  {
   "cell_type": "code",
   "execution_count": 75,
   "id": "11e8afe4",
   "metadata": {},
   "outputs": [
    {
     "data": {
      "text/plain": [
       "['This tutorial provides overview natural language processing ( NLP ) lay foundation JAMIA reader better appreciate article issue .',\n",
       " 'NLP began 1950s intersection artificial intelligence linguistics .',\n",
       " 'NLP originally distinct text information retrieval ( IR ) , employ highly scalable statistics-based technique index search large volume text efficiently : Manning et al1 provide excellent introduction IR .',\n",
       " 'With time , however , NLP IR converged somewhat .',\n",
       " \"Currently , NLP borrows several , diverse field , requiring today 's NLP researcher developer broaden mental knowledge-base significantly .\",\n",
       " 'Early simplistic approach , example , word-for-word Russian-to-English machine translation,2 defeated homographs—identically spelled word multiple meanings—and metaphor , leading apocryphal story Biblical , ‘ spirit willing , flesh weak ’ translated ‘ vodka agreeable , meat spoiled . ’']"
      ]
     },
     "execution_count": 75,
     "metadata": {},
     "output_type": "execute_result"
    }
   ],
   "source": [
    "for i in range(len(sentences)):\n",
    "    words = nltk.word_tokenize(sentences[i])\n",
    "    lemmatizer_list = [lemmatizer.lemmatize(word) for word in words if word not in stopwords.words('english')]\n",
    "    sentences[i] = \" \".join(lemmatizer_list)\n",
    "sentences"
   ]
  },
  {
   "cell_type": "code",
   "execution_count": null,
   "id": "25b38875",
   "metadata": {},
   "outputs": [],
   "source": []
  }
 ],
 "metadata": {
  "kernelspec": {
   "display_name": "Python 3 (ipykernel)",
   "language": "python",
   "name": "python3"
  },
  "language_info": {
   "codemirror_mode": {
    "name": "ipython",
    "version": 3
   },
   "file_extension": ".py",
   "mimetype": "text/x-python",
   "name": "python",
   "nbconvert_exporter": "python",
   "pygments_lexer": "ipython3",
   "version": "3.9.7"
  }
 },
 "nbformat": 4,
 "nbformat_minor": 5
}
